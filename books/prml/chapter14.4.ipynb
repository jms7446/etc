{
 "cells": [
  {
   "cell_type": "markdown",
   "metadata": {},
   "source": [
    "## 14.4 트리 기반 모델"
   ]
  },
  {
   "cell_type": "markdown",
   "metadata": {},
   "source": [
    "입력 공간을 입방체 영역으로 분할하고 모서리가 축과 정렬 된 다음 각 영역에 간단한 모델 (예 : 상수)을 할당하여 작동하는 간단하지만 널리 사용되는 다양한 모델이 있습니다. <br>\n",
    "간단하지만 널리 사용되는 모델의 종류로 입력 공간을 각 변이 축과 평행한 입방형들로 나누고 각 구역별로 단순한 모델(예를 들면 상수 모델)을 사용하는 것이 있다. <br>\n",
    "There are various simple, but widely used, models that work by partitioning the input space into cuboid regions, whose edges are aligned with the axes, and then assigning a simple model (for example, a contant) to each region."
   ]
  },
  {
   "cell_type": "markdown",
   "metadata": {},
   "source": [
    "입력 공간의 특정 지점에서 하나의 모델 만 예측을 수행하는 모델 조합 방법으로 볼 수 있습니다. <br>\n",
    "이러한 모델은 모델 조합 방법의 하나로 볼 수 있다. 이 경우 입력 공간의 각 포인트들에 대해 예측을 하는 데 있어서 오직 하나의 모델만이 책임을 지게 된다. <br>\n",
    "They can be viewed as a model combination method in which only one model is responsible for making predictions at any given point in input space."
   ]
  },
  {
   "cell_type": "markdown",
   "metadata": {},
   "source": [
    "새로운 입력 x가 주어지면 특정 모델을 선택하는 프로세스는 이진 트리 (각 노드에서 두 개의 분기로 분할되는 것)의 순회에 해당하는 순차적 의사 결정 프로세스로 설명 할 수 있습니다. <br>\n",
    "새로운 입력값 x가 주어졌을 경우에 특정 모델을 선택하는 과정은 연속적으로 결정을 내리는 과정으로 볼 수 있는데, 이는 이진트리(각 노드에서 두 개의 가지로 쪼개지는 트리)를 순회하는 것에 해당한다. <br>\n",
    "The process of selecting a specific model, given a new input x, can be described by a sequential decision making process corresponding to the traversal of a binary tree (one that splits into two branches at each node)."
   ]
  },
  {
   "cell_type": "markdown",
   "metadata": {},
   "source": [
    "여기서는 분류 및 회귀 트리 또는 CART (Breiman et al., 1984)라는 특정 트리 기반 프레임 워크에 초점을 맞춥니다. 하지만 ID3 및 C4.5와 같은 이름을 사용하는 다른 변형도 많이 있습니다 (Quinlan, 1986; Quinlan, 1993).<br>\n",
    "여기서는 분류와 회귀트리(CART)(Breiman et al., 1984)라 불리는 트리에 초점을 맞출 것이다.여기서는 다루지 않을 것이지만, ID3와 C4.5()와 같은 변형 모델도 존재한다. <br>\n",
    "Here we focus on a particular tree-based framework called classification and regression trees, or CART (Brieman et al., 1984), although there are many other variants going by such names as ID3 and C4.5."
   ]
  },
  {
   "cell_type": "markdown",
   "metadata": {},
   "source": [
    "그림 14.5는 해당 트리 구조와 함께 입력 공간의 재귀 바이너리 분할을 보여줍니다. <br>\n",
    "그림 14.5는 입력 공간을 해당 트리 구조에 따라 재귀적으로 이진 분할한 것을 나타내고 있다. <br>\n",
    "Figure 14.5 shows an illustration of a recursive binary partitioning of the input space, along with the corresponding tree structure."
   ]
  },
  {
   "cell_type": "markdown",
   "metadata": {},
   "source": [
    "이 예에서 첫 번째 단계는 입력 공간 전체를 x1 à θ1 또는 x1> θ1에 따라 두 영역으로 나눕니다. 여기서 θ1은 모델의 매개 변수입니다. <br>\n",
    "이 예시의 첫 번째 단계에서는 전체 입력 공간을 x1 <= 01인지 x1 > 01 인지에 따라서 두 개의 구역으로 나눈다. 이 때 01은 모델의 매개 변수다. <br>\n",
    "In this example, the first step divides the whole of the input space into two regions according to whether x1 <= 01 or x1 > 01 where 01 is a parameter of the model."
   ]
  },
  {
   "cell_type": "markdown",
   "metadata": {},
   "source": [
    "이렇게하면 두 개의 하위 영역이 생성되고 각 하위 영역은 독립적으로 세분화 될 수 있습니다. <br>\n",
    "이 분할에 따라 두 개의 부분 구역이 생긴다. 이 각각의 부분 구역들을 개별적으로 더 분할 할 수 있다. <br>\n",
    "This creates two subregions, each of which can then be subdivided independently."
   ]
  },
  {
   "cell_type": "markdown",
   "metadata": {},
   "source": [
    "예를 들어, x1 à θ1 영역은 x2 à θ2 또는 x2> θ2에 따라 더 세분화되어 A와 B로 표시된 영역이 발생합니다. <br>\n",
    "예를 들어 x1 <= 01에 해당하는 구역은 x2 <= 02인지 x2 > 02인지에 따라 분할된다. 그 결과로 A와 B 구역이 생기게 된다. <br>"
   ]
  },
  {
   "cell_type": "markdown",
   "metadata": {},
   "source": [
    "순환적 세분화는 그림 14.6에 표시된 이진 트리의 순회로 설명 될 수 있습니다. <br>\n",
    "재귀적인 분할 과정은 그림 14.6의 이진 트리를 따라 순회하는 것으로 설명할 수 있다. <br>"
   ]
  },
  {
   "cell_type": "markdown",
   "metadata": {},
   "source": [
    "새로운 입력 x의 경우 루트 노드의 트리 상단에서 시작하여 각 노드의 결정 기준에 따라 특정 리프 노드로 내려가는 경로를 따라 어떤 영역에 속하는지 결정합니다. <br>\n",
    "새로운 입력값 x에 대해 트리의 루트 노드에서 시작해서 각 노드의 결정 기준에 맞춰서 경로를 따라가면 특정 잎 노드에 도착하게 된다. <br>"
   ]
  },
  {
   "cell_type": "markdown",
   "metadata": {},
   "source": [
    "이러한 의사 결정 트리는 확률적 그래픽 모델이 아닙니다. <br>\n",
    "이러한 의사 결정 트리는 확률적 그래프 모델이 아니다. <br>"
   ]
  },
  {
   "cell_type": "code",
   "execution_count": 1,
   "metadata": {
    "ExecuteTime": {
     "end_time": "2020-10-09T13:32:47.957314Z",
     "start_time": "2020-10-09T13:32:47.835855Z"
    }
   },
   "outputs": [],
   "source": [
    "!git add ."
   ]
  },
  {
   "cell_type": "code",
   "execution_count": 3,
   "metadata": {
    "ExecuteTime": {
     "end_time": "2020-10-09T13:33:07.512508Z",
     "start_time": "2020-10-09T13:33:07.393812Z"
    }
   },
   "outputs": [
    {
     "name": "stdout",
     "output_type": "stream",
     "text": [
      "[main 07be0a1] ch14.4\r\n",
      " 1 file changed, 58 insertions(+)\r\n"
     ]
    }
   ],
   "source": [
    "!git commit -m 'ch14.4'"
   ]
  },
  {
   "cell_type": "code",
   "execution_count": 4,
   "metadata": {
    "ExecuteTime": {
     "end_time": "2020-10-09T13:33:17.885925Z",
     "start_time": "2020-10-09T13:33:12.445169Z"
    }
   },
   "outputs": [
    {
     "name": "stdout",
     "output_type": "stream",
     "text": [
      "Counting objects: 5, done.\n",
      "Delta compression using up to 8 threads.\n",
      "Compressing objects: 100% (4/4), done.\n",
      "Writing objects: 100% (5/5), 1.44 KiB | 0 bytes/s, done.\n",
      "Total 5 (delta 3), reused 0 (delta 0)\n",
      "remote: Resolving deltas: 100% (3/3), completed with 3 local objects.\u001b[K\n",
      "To https://github.com/jms7446/etc.git\n",
      "   33ae237..07be0a1  main -> main\n"
     ]
    }
   ],
   "source": [
    "!git push"
   ]
  }
 ],
 "metadata": {
  "kernelspec": {
   "display_name": "tf2",
   "language": "python",
   "name": "tf2"
  },
  "language_info": {
   "codemirror_mode": {
    "name": "ipython",
    "version": 3
   },
   "file_extension": ".py",
   "mimetype": "text/x-python",
   "name": "python",
   "nbconvert_exporter": "python",
   "pygments_lexer": "ipython3",
   "version": "3.7.3"
  },
  "toc": {
   "base_numbering": 1,
   "nav_menu": {},
   "number_sections": false,
   "sideBar": true,
   "skip_h1_title": false,
   "title_cell": "Table of Contents",
   "title_sidebar": "Contents",
   "toc_cell": false,
   "toc_position": {},
   "toc_section_display": true,
   "toc_window_display": false
  },
  "varInspector": {
   "cols": {
    "lenName": 16,
    "lenType": 16,
    "lenVar": 40
   },
   "kernels_config": {
    "python": {
     "delete_cmd_postfix": "",
     "delete_cmd_prefix": "del ",
     "library": "var_list.py",
     "varRefreshCmd": "print(var_dic_list())"
    },
    "r": {
     "delete_cmd_postfix": ") ",
     "delete_cmd_prefix": "rm(",
     "library": "var_list.r",
     "varRefreshCmd": "cat(var_dic_list()) "
    }
   },
   "types_to_exclude": [
    "module",
    "function",
    "builtin_function_or_method",
    "instance",
    "_Feature"
   ],
   "window_display": false
  }
 },
 "nbformat": 4,
 "nbformat_minor": 4
}
